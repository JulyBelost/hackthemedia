{
  "nbformat": 4,
  "nbformat_minor": 0,
  "metadata": {
    "colab": {
      "name": "Untitled0.ipynb",
      "version": "0.3.2",
      "provenance": []
    },
    "kernelspec": {
      "name": "python3",
      "display_name": "Python 3"
    }
  },
  "cells": [
    {
      "cell_type": "markdown",
      "metadata": {
        "id": "view-in-github",
        "colab_type": "text"
      },
      "source": [
        "[View in Colaboratory](https://colab.research.google.com/github/JulyBelost/hackthemedia/blob/master/parser.ipynb)"
      ]
    },
    {
      "metadata": {
        "id": "nzvQZAMBp4PT",
        "colab_type": "code",
        "colab": {
          "base_uri": "https://localhost:8080/",
          "height": 102
        },
        "outputId": "9d53b135-e650-4734-bdc4-85511eff57af"
      },
      "cell_type": "code",
      "source": [
        "import json\n",
        "from google.colab import files\n",
        "import urllib.request as urllib\n",
        "\n",
        "P_ID = 1\n",
        "file_num = 0\n",
        "names = {}\n",
        "while True:\n",
        "  # Download .xml file\n",
        "  response = urllib.urlopen('http://rutube.ru/api/metainfo/tv/{show_id}/person?page={page_id}'.format(\n",
        "      show_id = 10,\n",
        "      page_id = P_ID\n",
        "      ))\n",
        "  xml = response.read()\n",
        "\n",
        "#   # Check if page is the last\n",
        "#   if (len(results) == 0):\n",
        "#     P_ID = P_ID + 1\n",
        "#     print('Page: {0}'.format(P_ID))\n",
        "#     continue\n",
        "  #title = (json.loads(xml)['results'][1]['title'])\n",
        "  results = (json.loads(xml)['results'])\n",
        "    \n",
        "  for i in range(1, len(results)):\n",
        "    name = str(results[i]['person']['name']).strip()\n",
        "    url = str(results[i]['person']['picture'])\n",
        "    filename = '{}.jpg'.format(file_num)\n",
        "    if name not in names:\n",
        "      names[name] = [file_num]\n",
        "    else:\n",
        "      names[name].append(file_num)\n",
        "    file_num = file_num + 1\n",
        "    urllib.urlretrieve(url, filename)\n",
        "#     print(url, filename)\n",
        "    files.download(filename)\n",
        "  print (\"Page {0}\".format(P_ID))\n",
        "  P_ID = P_ID + 1\n",
        "  \n",
        "with open('table.txt', 'w') as f:\n",
        "  f.write(str(names))\n",
        "  \n",
        "files.download('table.txt')\n",
        "\n",
        "  #urllib.urlretrieve('http://pic.rutube.ru/video/8b/f1/8bf19cf6f95ff91b2bd1aa2e82d7f68d.jpg', '01.jpg')\n",
        "\n",
        "  #files.download('01.jpg')\n"
      ],
      "execution_count": 0,
      "outputs": [
        {
          "output_type": "stream",
          "text": [
            "Page 1\n",
            "Page 2\n",
            "Page 3\n",
            "Page 4\n",
            "Page 5\n"
          ],
          "name": "stdout"
        }
      ]
    }
  ]
}